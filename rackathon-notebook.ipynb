{
 "cells": [
  {
   "cell_type": "code",
   "execution_count": null,
   "metadata": {
    "_cell_guid": "b1076dfc-b9ad-4769-8c92-a6c4dae69d19",
    "_uuid": "8f2839f25d086af736a60e9eeb907d3b93b6e0e5"
   },
   "outputs": [],
   "source": [
    "!pip install langchain openai\n",
    "!pip install gradio\n",
    "!pip install google-search-results"
   ]
  },
  {
   "cell_type": "code",
   "execution_count": null,
   "metadata": {},
   "outputs": [],
   "source": [
    "from langchain.schema import HumanMessage\n",
    "from langchain.chat_models import ChatOpenAI\n",
    "from langchain.prompts import PromptTemplate, ChatPromptTemplate, HumanMessagePromptTemplate\n",
    "from langchain.output_parsers import StructuredOutputParser, ResponseSchema\n",
    "import ast\n",
    "import gradio as gr\n",
    "import pandas as pd\n",
    "import time\n",
    "from datetime import datetime\n",
    "from langchain.agents import load_tools\n",
    "from langchain.agents import initialize_agent\n",
    "from langchain.llms import OpenAI\n",
    "import os\n",
    "from langchain.agents import Tool\n",
    "from langchain.utilities import GoogleSearchAPIWrapper"
   ]
  },
  {
   "cell_type": "code",
   "execution_count": null,
   "metadata": {},
   "outputs": [],
   "source": [
    "response_schema = [\n",
    "    ResponseSchema(name = \"Review Summary\",description=\"A short summary summarising all the important details present in review text and limit it to 3 sentences\"),\n",
    "    ResponseSchema(name = \"Sentiment\", description=\"Overall sentiment of review text\"),\n",
    "    ResponseSchema(name = \"Pain Points\", description = \"Issues faced by customers reported in reviews limited to 1 sentence\"),\n",
    "    ResponseSchema(name = \"Actions\", description = \"Corrective suggestions that can be taken to improve customer experience limited to 1 sentence\"),\n",
    "    ResponseSchema(name = \"Aspects\", description = \"List of significant aspects and their sentiment\")\n",
    "]\n",
    "\n",
    "output_parser = StructuredOutputParser.from_response_schemas(response_schema)\n",
    "format_instructions = output_parser.get_format_instructions()"
   ]
  },
  {
   "cell_type": "code",
   "execution_count": null,
   "metadata": {},
   "outputs": [],
   "source": [
    "prompt = ChatPromptTemplate(\n",
    "    messages = [\n",
    "        HumanMessagePromptTemplate.from_template(\n",
    "            \"\"\"\n",
    "            Assume that you are an e-commerce subject matter expert for both English & Japanese marketplaces.\n",
    "            {persona} reviews will be provided\n",
    "            % REVIEWS : {review} corresponding to {category}\n",
    "\n",
    "            Please go through review text and determine the following :\n",
    "\n",
    "            - Short review summary with no loss of information limited to 3 sentences\n",
    "            - Determine the overall sentiment\n",
    "            - List of pain points / issues faced by customer\n",
    "            - Action items / corrective actions that can be taken to address these issues\n",
    "            - Important aspects & their sentiment\n",
    "\n",
    "            Output of the model should follow the structure defined below\n",
    "            {format_instructions}\n",
    "\n",
    "            If review text contains irrelevant information or misleading information then please don't consider such sentences.\n",
    "            Model outputs should be in {language} language only and it must be very polite.\n",
    "            Please don't try to make up answers. If you don't know the answer to any of these then please output\n",
    "            \"Oops, I'm not sure\"\n",
    "            \"\"\"\n",
    "        )\n",
    "    ],\n",
    "    input_variables=['review','category','persona','language'],\n",
    "    partial_variables = {\"format_instructions\": format_instructions}\n",
    ")\n"
   ]
  },
  {
   "cell_type": "markdown",
   "metadata": {},
   "source": [
    "# Review Analysis thorugh UI"
   ]
  },
  {
   "cell_type": "code",
   "execution_count": null,
   "metadata": {},
   "outputs": [],
   "source": [
    "key = \"\"\n",
    "def get_insights(persona,reviews,category,language,model,temperature):\n",
    "    query = prompt.format_prompt(review=reviews,category=category,persona=persona,language=language)\n",
    "    # print(query)\n",
    "    print(persona,category,language,model,temperature)\n",
    "    query = prompt.format_prompt(review=reviews,persona=persona,language=language,category=category)\n",
    "    chat_model = ChatOpenAI(temperature = temperature,model_name = model,openai_api_key=key)\n",
    "    response = chat_model(query.to_messages())\n",
    "    return response.content.replace(\"```json\",\"\").replace(\"```\",\"\")"
   ]
  },
  {
   "cell_type": "code",
   "execution_count": null,
   "metadata": {},
   "outputs": [],
   "source": [
    "# theme = gr.themes.Base(primary_hue=\"red\",secondary_hue=\"blue\",neutral_hue=\"green\",\n",
    "#                       text_size=\"sm\",)\n",
    "theme = gr.themes.Soft()\n",
    "\n",
    "# Refer : https://www.gradio.app/guides/theming-guide"
   ]
  },
  {
   "cell_type": "code",
   "execution_count": null,
   "metadata": {},
   "outputs": [],
   "source": [
    "demo = gr.Interface(\n",
    "    fn=get_insights,\n",
    "    inputs = [\n",
    "        gr.Dropdown(\n",
    "            [\"Consumer\",\"Seller\",\"E-Commerce Platform\",\"Manufacturer\"], label=\"Persona\", info=\"Select the appropriate persona\"),\n",
    "        gr.Textbox(label=\"Reviews\",lines=3,info=\"Please enter review text\"),\n",
    "        gr.Dropdown(\n",
    "            [\"Fashion\",\"Shoes\",\"Electronics\",\"Home & Kitchen\"], label=\"Category\", info=\"Select the appropriate category\"),\n",
    "        gr.Textbox(label=\"Language\",info=\"Model Response Language like English,Japanese,French\"),\n",
    "        gr.Dropdown(\n",
    "            [\"gpt-3.5-turbo\",\"gpt-3.5-turbo-16k\",\"gpt-4\",\"gpt-4-32k\"], label=\"Model\", info=\"Select the model of your choice\"),\n",
    "         gr.Slider(\n",
    "            label=\"Temperature\",minimum=0.0,maximum=1.0,value=0.3, info=\"Control the degree of randomness of the model\"\n",
    "        ),\n",
    "        \n",
    "    ],\n",
    "    outputs = [\n",
    "        gr.Textbox(label=\"Result\",lines=7, info=\"Model Response\")\n",
    "    ],\n",
    "    title=\"Review Insigths Generation\",\n",
    "    description=\"Review Signals\",\n",
    "    allow_flagging=\"manual\",\n",
    "    theme = theme,\n",
    "    flagging_options=[\"incorrect\", \"ambiguous\"]\n",
    ")"
   ]
  },
  {
   "cell_type": "code",
   "execution_count": null,
   "metadata": {},
   "outputs": [],
   "source": [
    "demo.queue().launch(share=True)"
   ]
  },
  {
   "cell_type": "markdown",
   "metadata": {},
   "source": [
    "# File Batch Processing - Reviews"
   ]
  },
  {
   "cell_type": "code",
   "execution_count": null,
   "metadata": {},
   "outputs": [],
   "source": [
    "def get_insights(file_name,column_name,persona,category,language,model,temperature):\n",
    "    df = pd.read_csv(file_name)\n",
    "    output_file_name = \"processed_\"+str(datetime.today().strftime('%Y-%m-%d'))+\"_\"+file_name\n",
    "    df['model_output'] = None\n",
    "    start_time = time.time()\n",
    "    for i in range(df.shape[0]):\n",
    "        query = prompt.format_prompt(review=df[column_name].iloc[i],category=category,persona=persona,language=language)\n",
    "        chat_model = ChatOpenAI(temperature = temperature,model_name = model,openai_api_key=key)\n",
    "        response = chat_model(query.to_messages())\n",
    "        response = response.content.replace(\"```json\",\"\").replace(\"```\",\"\")\n",
    "        df['model_output'].iloc[i] = response\n",
    "    duration = str(time.time() - start_time)+\" S\"\n",
    "    output_file_name = \"processed_\"+str(datetime.today().strftime('%Y-%m-%d'))+\".csv\"\n",
    "    df.to_csv(output_file_name,index=False)\n",
    "    return {\"ouput_file_name\":output_file_name,\n",
    "           \"No of processed rows\":df.shape[0],\n",
    "           \"No of errored rows\":0,\n",
    "           \"Execution Time\":duration,\n",
    "           \"Average Time\":str((time.time() - start_time)/df.shape[0])+\" S\" }\n"
   ]
  },
  {
   "cell_type": "code",
   "execution_count": null,
   "metadata": {},
   "outputs": [],
   "source": [
    "demo = gr.Interface(\n",
    "    fn=get_insights,\n",
    "    inputs = [\n",
    "        gr.Textbox(label=\"File Name\", info= \"Enter the file path\"),\n",
    "        gr.Textbox(label=\"Column Name\", info=\"Specify the coulmn name of the target review field\"),\n",
    "        gr.Dropdown(\n",
    "            [\"Consumer\",\"Seller\",\"E-Commerce Platform\",\"Manufacturer\"], label=\"Persona\", info=\"Select the appropriate persona\"),\n",
    "        gr.Dropdown(\n",
    "            [\"Fashion\",\"Shoes\",\"Electronics\",\"Home & Kitchen\"], label=\"Category\", info=\"Select the appropriate category\"),\n",
    "        gr.Textbox(label=\"Language\", info=\"Model Response Language like English,Japanese,French\"),\n",
    "        gr.Dropdown(\n",
    "            [\"gpt-3.5-turbo\",\"gpt-3.5-turbo-16k\",\"gpt-4\",\"gpt-4-32k\"], label=\"Model\", info=\"Select the model of your choice\"),\n",
    "         gr.Slider(\n",
    "            label=\"Temperature\",minimum=0.0,maximum=1.0,value=0.3, info=\"Control the degree of randomness of the model\"\n",
    "        ),\n",
    "        \n",
    "    ],\n",
    "    outputs = [\n",
    "        gr.Textbox(label=\"Result\",lines=7, info=\"Model Response\")\n",
    "    ],\n",
    "    title=\"Batch Review Insigths Generation\",\n",
    "    description=\"Review Signals\",\n",
    "    allow_flagging=\"manual\",\n",
    "    theme=theme\n",
    ")"
   ]
  },
  {
   "cell_type": "code",
   "execution_count": null,
   "metadata": {},
   "outputs": [],
   "source": [
    "demo.queue().launch(share=True)"
   ]
  },
  {
   "cell_type": "markdown",
   "metadata": {},
   "source": []
  },
  {
   "cell_type": "markdown",
   "metadata": {},
   "source": [
    "# Gen AI Review Based Product Recommendation"
   ]
  },
  {
   "cell_type": "code",
   "execution_count": null,
   "metadata": {},
   "outputs": [],
   "source": [
    "os.environ['OPENAI_API_KEY']=\"\"\"\n",
    "GOOGLE_CSE_ID=\"\"\n",
    "GOOGLE_API_KEY = \"\""
   ]
  },
  {
   "cell_type": "code",
   "execution_count": null,
   "metadata": {},
   "outputs": [],
   "source": [
    "llm = OpenAI(temperature=0, )\n",
    "search = GoogleSearchAPIWrapper(google_api_key=GOOGLE_API_KEY,google_cse_id=GOOGLE_CSE_ID)\n",
    "toolkit = [\n",
    "    Tool(\n",
    "        name = \"Search\",\n",
    "         func = search.run,\n",
    "         description=\"useful for when you need to search google for answers\"\n",
    "    ),]"
   ]
  },
  {
   "cell_type": "code",
   "execution_count": null,
   "metadata": {},
   "outputs": [],
   "source": [
    "agent = initialize_agent(toolkit,llm,agent='zero-shot-react-description', verbose=True)"
   ]
  },
  {
   "cell_type": "code",
   "execution_count": null,
   "metadata": {},
   "outputs": [],
   "source": [
    "def get_web_result(query):\n",
    "    result = agent.run(query)\n",
    "    return result\n",
    "    "
   ]
  },
  {
   "cell_type": "code",
   "execution_count": null,
   "metadata": {},
   "outputs": [],
   "source": [
    "demo = gr.Interface(\n",
    "    fn=get_web_result,\n",
    "    inputs = [\n",
    "        gr.Textbox(label=\"Query\", lines = 7,info=\"Enter query\"),   \n",
    "    ],\n",
    "    outputs = [\n",
    "        gr.Textbox(label=\"Result\",lines=7,info=\"Model Response\")\n",
    "    ],\n",
    "    title=\"Turning Reviews into Recommendations, Powered by GenAI.\",\n",
    "    description=\"Review Signals\",\n",
    "    allow_flagging=\"manual\",\n",
    "    flagging_options=[\"incorrect\", \"ambiguous\"],\n",
    "    theme = gr.themes.Soft(),\n",
    "    examples = [\"I am interested to buy samsung s23 ultra. Find phones similar to Samsung s23 ultra. Summarise each of the product reviews of similar phones, determine sentiment for each of the summarised review. Recommend the one I should buy with proper justification as to how this product outperforms the competitor phones.\"]\n",
    ")"
   ]
  },
  {
   "cell_type": "code",
   "execution_count": null,
   "metadata": {},
   "outputs": [],
   "source": [
    "demo.queue().launch(share=True)"
   ]
  },
  {
   "cell_type": "markdown",
   "metadata": {},
   "source": [
    "# URL Based Review Insights"
   ]
  },
  {
   "cell_type": "code",
   "execution_count": null,
   "metadata": {},
   "outputs": [],
   "source": [
    "from bs4 import BeautifulSoup\n",
    "import requests\n",
    "import gradio as gr"
   ]
  },
  {
   "cell_type": "code",
   "execution_count": null,
   "metadata": {},
   "outputs": [],
   "source": [
    "def get_reviews(url):\n",
    "    reviews = ''\n",
    "    try:\n",
    "        # Send an HTTP GET request and parse the HTML content\n",
    "        response = requests.get(url)\n",
    "        response.raise_for_status()  # Check for any HTTP errors\n",
    "\n",
    "        html_content = response.text\n",
    "        soup = BeautifulSoup(html_content, 'html.parser')\n",
    "\n",
    "        # Use the CSS selector to find elements and extract values\n",
    "        selected_elements = soup.select(\".a-size-base.review-text.review-text-content\")\n",
    "\n",
    "        if selected_elements:\n",
    "            for element in selected_elements:\n",
    "                var = element.text.replace(\"\\n\",\"\").strip()\n",
    "                reviews = reviews + var\n",
    "                print(var)  # Print the text content of the selected elements\n",
    "        else:\n",
    "            print(f\"No elements found with CSS selector: {css_selector}\")\n",
    "        return var\n",
    "\n",
    "    except requests.exceptions.RequestException as e:\n",
    "        print(f\"Error: {e}\")\n",
    "    except Exception as e:\n",
    "        print(f\"An error occurred: {e}\")"
   ]
  },
  {
   "cell_type": "code",
   "execution_count": null,
   "metadata": {},
   "outputs": [],
   "source": [
    "key = \"\"\n",
    "def get_insights(persona,page_url,category,language,model,temperature):\n",
    "    reviews = get_reviews(page_url)\n",
    "    query = prompt.format_prompt(review=reviews,category=category,persona=persona,language=language)\n",
    "    print(query)\n",
    "    print(persona,category,language,model,temperature)\n",
    "    query = prompt.format_prompt(review=reviews,persona=persona,language=language,category=category)\n",
    "    chat_model = ChatOpenAI(temperature = temperature,model_name = model,openai_api_key=key)\n",
    "    response = chat_model(query.to_messages())\n",
    "    return response.content.replace(\"```json\",\"\").replace(\"```\",\"\")"
   ]
  },
  {
   "cell_type": "code",
   "execution_count": null,
   "metadata": {},
   "outputs": [],
   "source": [
    "theme = gr.themes.Soft()\n",
    "demo = gr.Interface(\n",
    "    fn=get_insights,\n",
    "    inputs = [\n",
    "        gr.Dropdown(\n",
    "            [\"Consumer\",\"Seller\",\"E-Commerce Platform\",\"Manufacturer\"], label=\"Persona\", info=\"Select the appropriate persona\"),\n",
    "        gr.Textbox(label=\"Page Url\",lines=2,info=\"Enter Page URL\"),\n",
    "        gr.Dropdown(\n",
    "            [\"Fashion\",\"Shoes\",\"Electronics\",\"Home & Kitchen\"], label=\"Category\", info=\"Select the appropriate category\"),\n",
    "        gr.Textbox(label=\"Language\",info=\"Model Response Language like English,Japanese,French\"),\n",
    "        gr.Dropdown(\n",
    "            [\"gpt-3.5-turbo\",\"gpt-3.5-turbo-16k\",\"gpt-4\",\"gpt-4-32k\"], label=\"Model\", info=\"Select the model of your choice\"),\n",
    "         gr.Slider(\n",
    "            label=\"Temperature\",minimum=0.0,maximum=1.0,value=0.3, info=\"Control the degree of randomness of the model\"\n",
    "        ),\n",
    "        \n",
    "    ],\n",
    "    outputs = [\n",
    "        gr.Textbox(label=\"Result\",lines=7, info=\"Model Response\")\n",
    "    ],\n",
    "    title=\"Review Insigths Generation\",\n",
    "    description=\"Review Signals\",\n",
    "    allow_flagging=\"manual\",\n",
    "    theme = theme,\n",
    "    flagging_options=[\"incorrect\", \"ambiguous\"]\n",
    ")"
   ]
  },
  {
   "cell_type": "code",
   "execution_count": null,
   "metadata": {},
   "outputs": [],
   "source": [
    "demo.queue().launch(share=True)"
   ]
  }
 ],
 "metadata": {
  "kernelspec": {
   "display_name": "Python 3 (ipykernel)",
   "language": "python",
   "name": "python3"
  },
  "language_info": {
   "codemirror_mode": {
    "name": "ipython",
    "version": 3
   },
   "file_extension": ".py",
   "mimetype": "text/x-python",
   "name": "python",
   "nbconvert_exporter": "python",
   "pygments_lexer": "ipython3",
   "version": "3.11.3"
  }
 },
 "nbformat": 4,
 "nbformat_minor": 4
}
